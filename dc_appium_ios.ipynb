{
 "cells": [
  {
   "cell_type": "markdown",
   "metadata": {},
   "source": [
    "# deviceConnect Appium iOS Python Demonstration\n",
    "\n",
    "This Jupyter notebook contains Python code that is useful for reproducing and diagnosing Appium issues on iOS.\n",
    "\n",
    "It is designed to be useful as boilerplate for an issue-specific notebook. Just duplicate it, update the variables in the **Configuration** section, run all the cells to start and connect to an Appium session, then start addding to the **Testing** section at the bottom."
   ]
  },
  {
   "cell_type": "markdown",
   "metadata": {},
   "source": [
    "## Prerequisities\n",
    "\n",
    "- A deviceConnect server with attached iOS device(s)\n",
    "- A user account on the deviceConnect server, and a user-specific API key\n",
    "- [Jupyter](http://jupyter.org)\n",
    "   - On macOS, the easiest way to install Jupyter is to first install [Homebrew](http://brew.sh), then enter the command `brew install jupyter`.\n",
    "   - When Jupyter is installed, open a command line prompt, go to the directory where this notebook is located, and run the command `jupyter notebook` to start a Jupyter server."
   ]
  },
  {
   "cell_type": "markdown",
   "metadata": {},
   "source": [
    "## Libraries\n",
    "\n",
    "First, import often-useful standard libraries."
   ]
  },
  {
   "cell_type": "code",
   "execution_count": null,
   "metadata": {},
   "outputs": [],
   "source": [
    "from __future__ import print_function\n",
    "\n",
    "import logging\n",
    "import os\n",
    "import sys"
   ]
  },
  {
   "cell_type": "markdown",
   "metadata": {},
   "source": [
    "Import the Appium and Selenium client libraries.\n",
    "\n",
    "If these libraries are not available, try running this command line:\n",
    "\n",
    "    pip install Appium-Python-Client\n",
    "\n",
    "If you don't have \"pip\", try\n",
    "\n",
    "    sudo easy_install pip\n",
    "    \n",
    "If pip fails due to permissions issues, try this:\n",
    "\n",
    "    pip install Appium-Python-Client --user\n",
    "    \n",
    "See the [appium/python-client](https://github.com/appium/python-client) repository for more information.\n",
    "\n",
    "Also see the [Selenium Python API](https://seleniumhq.github.io/selenium/docs/api/py/api.html "
   ]
  },
  {
   "cell_type": "code",
   "execution_count": null,
   "metadata": {},
   "outputs": [],
   "source": [
    "from appium import webdriver\n",
    "from selenium.webdriver.common.by import By\n",
    "from selenium.webdriver.support import expected_conditions as EC\n",
    "from selenium.webdriver.support.ui import WebDriverWait"
   ]
  },
  {
   "cell_type": "markdown",
   "metadata": {},
   "source": [
    "## Configuration\n",
    "\n",
    "Define some variables for our capabilities and connection parameters."
   ]
  },
  {
   "cell_type": "code",
   "execution_count": null,
   "metadata": {},
   "outputs": [],
   "source": [
    "DC_APPIUM_HOST_URL = 'http://10.211.55.33'\n",
    "DC_APPIUM_USER_NAME = 'kris.johnson@mobilelabsinc.com'\n",
    "DC_APPIUM_API_KEY = '5a28bf2d-c494-4ee5-8881-89a2721e12aa'\n",
    "DC_APPIUM_DEVICE_ID = '0761b3b4-a5c9-443b-b2be-3810e8251d90'\n",
    "DC_APPIUM_BUNDLE_ID = 'com.mobilelabsinc.TrustAutoTest-Touchpose'"
   ]
  },
  {
   "cell_type": "markdown",
   "metadata": {},
   "source": [
    "Configure the logging module so that we can see debug output. (These will be printed on the Jupyter server's console, not here in this notebook.)"
   ]
  },
  {
   "cell_type": "code",
   "execution_count": null,
   "metadata": {},
   "outputs": [],
   "source": [
    "%config Application.log_level=\"DEBUG\""
   ]
  },
  {
   "cell_type": "markdown",
   "metadata": {},
   "source": [
    "## Utility Functions\n",
    "\n",
    "The following cells contain functions that are often useful "
   ]
  },
  {
   "cell_type": "code",
   "execution_count": null,
   "metadata": {},
   "outputs": [],
   "source": [
    "def capabilities():\n",
    "    \"\"\"Return Appium capabilities for this test.\n",
    "    \"\"\"\n",
    "    caps = {\n",
    "        'deviceConnectUserName'      : DC_APPIUM_USER_NAME,\n",
    "        'deviceConnectApiKey'        : DC_APPIUM_API_KEY,\n",
    "        'deviceConnectDevice'        : DC_APPIUM_DEVICE_ID,\n",
    "        'deviceConnectIgnoreSession' : 'true',\n",
    "        'newCommandTimeout'          : 1000,\n",
    "        'platformName'               : 'iOS',\n",
    "        'automationName'             : 'xcuitest',\n",
    "        'bundleId'                   : DC_APPIUM_BUNDLE_ID,\n",
    "    }\n",
    "\n",
    "    return caps\n",
    "\n",
    "def connect_appium(capabilities):\n",
    "    \"\"\"Connect to the server and launch the app under Appium control.\n",
    "\n",
    "    Returns a webdriver object.\n",
    "    \"\"\"\n",
    "    url = '{0}/Appium'.format(DC_APPIUM_HOST_URL)\n",
    "\n",
    "    logging.info('connecting to device {0} on {1}...'\n",
    "        .format(DC_DEVICE_ID, url))\n",
    "    driver = webdriver.Remote(url, capabilities)\n",
    "    logging.info('connected')\n",
    "\n",
    "    return driver\n",
    "\n",
    "def click_button_with_label(driver, label):\n",
    "    \"\"\"Click the button with the specified label value.\n",
    "    \"\"\"\n",
    "    xpath = ('//XCUIElementTypeButton[@label=\"{0}\"]'\n",
    "        .format(escape_double_quotes(label)))\n",
    "    click_element_with_xpath(driver, xpath)\n",
    "\n",
    "def click_element_with_xpath(driver, xpath):\n",
    "    \"\"\"Wait for element to appear, then click it.\n",
    "    \"\"\"\n",
    "    wait_for_element_with_xpath(driver, xpath)\n",
    "    driver.find_element_by_xpath(xpath).click()\n",
    "\n",
    "def set_text_of_element_with_xpath(driver, xpath, newText):\n",
    "    \"\"\"Wait for element to appear, then set its text.\n",
    "    \"\"\"\n",
    "    wait_for_element_with_xpath(driver, xpath)\n",
    "    element = driver.find_element_by_xpath(xpath)\n",
    "\n",
    "    # .set_text() often doesn't work for iOS, so we use .set_value().\n",
    "    # Also, call .clear() first or we may just append to\n",
    "    # existing value.\n",
    "\n",
    "    element.click()\n",
    "    element.clear()\n",
    "    element.set_value(newText)\n",
    "\n",
    "def text_of_element_with_xpath(driver, xpath):\n",
    "    \"\"\"Wait for element to appear, then get its text.\n",
    "    \"\"\"\n",
    "    element = wait_for_element_with_xpath(driver, xpath)\n",
    "    return element.text\n",
    "\n",
    "def wait_for_element_with_xpath(driver, xpath, timeoutSeconds=15):\n",
    "    \"\"\"Wait until an element with the specified XPath appears.\n",
    "    \"\"\"\n",
    "    logging.info('looking for element with XPath {0}...'\n",
    "        .format(xpath))\n",
    "\n",
    "    WebDriverWait(driver, timeoutSeconds).until(\n",
    "        EC.presence_of_element_located((By.XPATH, xpath)))\n",
    "\n",
    "    logging.info('found {0}'.format(xpath))\n",
    "\n",
    "def wait_for_element_with_xpath_to_contain_text(driver, xpath, text, timeoutSeconds=15):\n",
    "    \"\"\"Wait until an element with the specified XPath contains the specified text.\n",
    "\n",
    "    Returns reference to the found element.\n",
    "\n",
    "    Throws TimeoutException if the condition never occurs.\n",
    "    \"\"\"\n",
    "    logging.info('waiting for text \\\"%s\\\" in element with XPath %s...',\n",
    "        text, xpath)\n",
    "\n",
    "    element = WebDriverWait(driver, timeoutSeconds).until(\n",
    "        EC.text_to_be_present_in_element((By.XPATH, xpath), text))\n",
    "\n",
    "    logging.info('found \\\"%s\\\" in element with XPath %s',\n",
    "        text, xpath)\n",
    "\n",
    "    return element\n",
    "\n",
    "def xpath_for_allow_button():\n",
    "    \"\"\"Return Xpath for the OK/Allow/Always Allow button in a system permissions alert.\n",
    "    \"\"\"\n",
    "    return '//XCUIElementTypeButton[@label=\"Allow\" or @label=\"Always Allow\" or @label=\"OK\"]'\n",
    "\n",
    "def wait_for_allow_button(driver, timeoutSeconds=15):\n",
    "    \"\"\"Wait until a popup with an OK/Allow/Always Allow button appears.\n",
    "\n",
    "    Returns reference to the element.\n",
    "\n",
    "    Throws exception if no such button appears.\n",
    "    \"\"\"\n",
    "    return wait_for_element_with_xpath(\n",
    "        driver, xpath_for_allow_button(), timeoutSeconds)\n",
    "\n",
    "def click_allow_button(driver):\n",
    "    \"\"\"Click 'OK/Allow/Always Allow' button.\n",
    "    \"\"\"\n",
    "    return click_element_with_xpath(driver, xpath_for_allow_button())\n",
    "\n",
    "def escape_double_quotes(s):\n",
    "    \"\"\"If string contains any double-quote (\") characters, replace with '\\\"'.\n",
    "\n",
    "    Returns escaped string.\n",
    "    \"\"\"\n",
    "    return s.replace('\"', '\\\\\"')\n",
    "\n",
    "def save_page_source_to_file(driver, filename):\n",
    "    \"\"\"Saves current page source to specified file.\n",
    "    \"\"\"\n",
    "    f = open(filename, 'w')\n",
    "    f.write(driver.page_source)\n",
    "    f.close()"
   ]
  },
  {
   "cell_type": "markdown",
   "metadata": {},
   "source": [
    "## Connecting\n",
    "\n",
    "The following cells will, when executed, create an Appium session on the device and connect to it."
   ]
  },
  {
   "cell_type": "markdown",
   "metadata": {},
   "source": [
    "Verify that the correct capability values are being used:"
   ]
  },
  {
   "cell_type": "code",
   "execution_count": null,
   "metadata": {},
   "outputs": [],
   "source": [
    "caps = capabilities()\n",
    "caps"
   ]
  },
  {
   "cell_type": "markdown",
   "metadata": {},
   "source": [
    "Using those capabilities, connect to the deviceConnect Appium server:"
   ]
  },
  {
   "cell_type": "code",
   "execution_count": null,
   "metadata": {},
   "outputs": [],
   "source": [
    "driver = connect_appium(caps)"
   ]
  },
  {
   "cell_type": "markdown",
   "metadata": {},
   "source": [
    "Now that we are connected, retrieve the page source to verify that Appium is working and we see what we expect to see:"
   ]
  },
  {
   "cell_type": "code",
   "execution_count": null,
   "metadata": {},
   "outputs": [],
   "source": [
    "driver.page_source"
   ]
  },
  {
   "cell_type": "markdown",
   "metadata": {},
   "source": [
    "## Testing\n",
    "\n",
    "Now that we are connected, we can experiment.  Enter commands and expressions in the cells below.\n",
    "\n",
    "In addition to the utility functions above, these commands and expressions are often useful:\n",
    "\n",
    "    driver.save_screenshot(filename)\n",
    "    driver.screenshot_as_png\n",
    "    driver.quit()\n",
    "    driver.find_element_by_xpath(xpath)   | driver.find_elements_by_xpath(xpath)\n",
    "    driver.find_element_by_name(name)     | driver.find_elements_by_xpath(name)\n",
    "    driver.find_element_by_tag_name(name) | driver.find_elements_by_tag_name(name)\n",
    "    \n",
    "    element.rect\n",
    "    element.size\n",
    "    element.text\n",
    "    element.is_displayed()\n",
    "    element.tag_name\n",
    "    element.id\n",
    "    element.is_enabled()\n",
    "    element.is_selected()\n",
    "    element.get_attribute('name')\n",
    "    element.get_attribute('label')\n",
    "    element.get_attribute('type')\n",
    "    element.get_attribute('visible')\n",
    "    element.get_attribute('value')\n",
    "    element.get_attribute('accessible')\n",
    "    element.get_attribute('UID')\n",
    "    element.click()\n",
    "    element.clear()\n",
    "    element.send_keys(text)\n",
    "\n",
    "API docs:\n",
    "\n",
    "   - [Selenium WebDriver](https://seleniumhq.github.io/selenium/docs/api/py/webdriver_remote/selenium.webdriver.remote.webdriver.html)\n",
    "   - [Selenium WebElement](https://seleniumhq.github.io/selenium/docs/api/py/webdriver_remote/selenium.webdriver.remote.webelement.html)\n",
    "   - [Appium Python Client](https://github.com/appium/python-client)"
   ]
  },
  {
   "cell_type": "code",
   "execution_count": null,
   "metadata": {},
   "outputs": [],
   "source": []
  }
 ],
 "metadata": {
  "kernelspec": {
   "display_name": "Python 3",
   "language": "python",
   "name": "python3"
  },
  "language_info": {
   "codemirror_mode": {
    "name": "ipython",
    "version": 3
   },
   "file_extension": ".py",
   "mimetype": "text/x-python",
   "name": "python",
   "nbconvert_exporter": "python",
   "pygments_lexer": "ipython3",
   "version": "3.6.6"
  }
 },
 "nbformat": 4,
 "nbformat_minor": 2
}
